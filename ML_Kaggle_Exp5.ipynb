{
  "nbformat": 4,
  "nbformat_minor": 0,
  "metadata": {
    "colab": {
      "provenance": [],
      "authorship_tag": "ABX9TyNIAMytA337POmXn6gFUmiS",
      "include_colab_link": true
    },
    "kernelspec": {
      "name": "python3",
      "display_name": "Python 3"
    },
    "language_info": {
      "name": "python"
    }
  },
  "cells": [
    {
      "cell_type": "markdown",
      "metadata": {
        "id": "view-in-github",
        "colab_type": "text"
      },
      "source": [
        "<a href=\"https://colab.research.google.com/github/OzyMeister/ML-Minor/blob/main/ML_Kaggle_Exp5.ipynb\" target=\"_parent\"><img src=\"https://colab.research.google.com/assets/colab-badge.svg\" alt=\"Open In Colab\"/></a>"
      ]
    },
    {
      "cell_type": "code",
      "execution_count": null,
      "metadata": {
        "colab": {
          "base_uri": "https://localhost:8080/"
        },
        "id": "bVwPpoFudZ5c",
        "outputId": "94e8eadd-b9bf-412f-9313-6d98df38fa69"
      },
      "outputs": [
        {
          "output_type": "stream",
          "name": "stdout",
          "text": [
            "Train set shape: (8693, 14)\n",
            "Test set shape: (4277, 13)\n"
          ]
        }
      ],
      "source": [
        "import pandas as pd\n",
        "import numpy as np\n",
        "import pandas as pd\n",
        "import matplotlib.pyplot as plt\n",
        "%matplotlib inline\n",
        "import seaborn as sns\n",
        "sns.set(style='darkgrid', font_scale=1.4)\n",
        "from imblearn.over_sampling import SMOTE\n",
        "import itertools\n",
        "import warnings\n",
        "warnings.filterwarnings('ignore')\n",
        "import plotly.express as px\n",
        "import time\n",
        "train = pd.read_csv('spacetitan.csv')\n",
        "test = pd.read_csv('spacetest.csv')\n",
        "\n",
        "# Shape and preview\n",
        "print('Train set shape:', train.shape)\n",
        "print('Test set shape:', test.shape)"
      ]
    },
    {
      "cell_type": "code",
      "source": [],
      "metadata": {
        "id": "FUI_c2UQsXcV"
      },
      "execution_count": null,
      "outputs": []
    },
    {
      "cell_type": "code",
      "source": [
        "train"
      ],
      "metadata": {
        "colab": {
          "base_uri": "https://localhost:8080/",
          "height": 661
        },
        "id": "9XmDpui-k6xq",
        "outputId": "dc03612f-27ab-4226-bd70-32b344a685b1"
      },
      "execution_count": null,
      "outputs": [
        {
          "output_type": "execute_result",
          "data": {
            "text/plain": [
              "     PassengerId HomePlanet CryoSleep     Cabin    Destination   Age    VIP  \\\n",
              "0        0001_01     Europa     False     B/0/P    TRAPPIST-1e  39.0  False   \n",
              "1        0002_01      Earth     False     F/0/S    TRAPPIST-1e  24.0  False   \n",
              "2        0003_01     Europa     False     A/0/S    TRAPPIST-1e  58.0   True   \n",
              "3        0003_02     Europa     False     A/0/S    TRAPPIST-1e  33.0  False   \n",
              "4        0004_01      Earth     False     F/1/S    TRAPPIST-1e  16.0  False   \n",
              "...          ...        ...       ...       ...            ...   ...    ...   \n",
              "8688     9276_01     Europa     False    A/98/P    55 Cancri e  41.0   True   \n",
              "8689     9278_01      Earth      True  G/1499/S  PSO J318.5-22  18.0  False   \n",
              "8690     9279_01      Earth     False  G/1500/S    TRAPPIST-1e  26.0  False   \n",
              "8691     9280_01     Europa     False   E/608/S    55 Cancri e  32.0  False   \n",
              "8692     9280_02     Europa     False   E/608/S    TRAPPIST-1e  44.0  False   \n",
              "\n",
              "      RoomService  FoodCourt  ShoppingMall     Spa  VRDeck               Name  \\\n",
              "0             0.0        0.0           0.0     0.0     0.0    Maham Ofracculy   \n",
              "1           109.0        9.0          25.0   549.0    44.0       Juanna Vines   \n",
              "2            43.0     3576.0           0.0  6715.0    49.0      Altark Susent   \n",
              "3             0.0     1283.0         371.0  3329.0   193.0       Solam Susent   \n",
              "4           303.0       70.0         151.0   565.0     2.0  Willy Santantines   \n",
              "...           ...        ...           ...     ...     ...                ...   \n",
              "8688          0.0     6819.0           0.0  1643.0    74.0  Gravior Noxnuther   \n",
              "8689          0.0        0.0           0.0     0.0     0.0    Kurta Mondalley   \n",
              "8690          0.0        0.0        1872.0     1.0     0.0       Fayey Connon   \n",
              "8691          0.0     1049.0           0.0   353.0  3235.0   Celeon Hontichre   \n",
              "8692        126.0     4688.0           0.0     0.0    12.0   Propsh Hontichre   \n",
              "\n",
              "      Transported  \n",
              "0           False  \n",
              "1            True  \n",
              "2           False  \n",
              "3           False  \n",
              "4            True  \n",
              "...           ...  \n",
              "8688        False  \n",
              "8689        False  \n",
              "8690         True  \n",
              "8691        False  \n",
              "8692         True  \n",
              "\n",
              "[8693 rows x 14 columns]"
            ],
            "text/html": [
              "\n",
              "  <div id=\"df-15ea7335-80a0-4a4f-8655-fe72fffab9ba\">\n",
              "    <div class=\"colab-df-container\">\n",
              "      <div>\n",
              "<style scoped>\n",
              "    .dataframe tbody tr th:only-of-type {\n",
              "        vertical-align: middle;\n",
              "    }\n",
              "\n",
              "    .dataframe tbody tr th {\n",
              "        vertical-align: top;\n",
              "    }\n",
              "\n",
              "    .dataframe thead th {\n",
              "        text-align: right;\n",
              "    }\n",
              "</style>\n",
              "<table border=\"1\" class=\"dataframe\">\n",
              "  <thead>\n",
              "    <tr style=\"text-align: right;\">\n",
              "      <th></th>\n",
              "      <th>PassengerId</th>\n",
              "      <th>HomePlanet</th>\n",
              "      <th>CryoSleep</th>\n",
              "      <th>Cabin</th>\n",
              "      <th>Destination</th>\n",
              "      <th>Age</th>\n",
              "      <th>VIP</th>\n",
              "      <th>RoomService</th>\n",
              "      <th>FoodCourt</th>\n",
              "      <th>ShoppingMall</th>\n",
              "      <th>Spa</th>\n",
              "      <th>VRDeck</th>\n",
              "      <th>Name</th>\n",
              "      <th>Transported</th>\n",
              "    </tr>\n",
              "  </thead>\n",
              "  <tbody>\n",
              "    <tr>\n",
              "      <th>0</th>\n",
              "      <td>0001_01</td>\n",
              "      <td>Europa</td>\n",
              "      <td>False</td>\n",
              "      <td>B/0/P</td>\n",
              "      <td>TRAPPIST-1e</td>\n",
              "      <td>39.0</td>\n",
              "      <td>False</td>\n",
              "      <td>0.0</td>\n",
              "      <td>0.0</td>\n",
              "      <td>0.0</td>\n",
              "      <td>0.0</td>\n",
              "      <td>0.0</td>\n",
              "      <td>Maham Ofracculy</td>\n",
              "      <td>False</td>\n",
              "    </tr>\n",
              "    <tr>\n",
              "      <th>1</th>\n",
              "      <td>0002_01</td>\n",
              "      <td>Earth</td>\n",
              "      <td>False</td>\n",
              "      <td>F/0/S</td>\n",
              "      <td>TRAPPIST-1e</td>\n",
              "      <td>24.0</td>\n",
              "      <td>False</td>\n",
              "      <td>109.0</td>\n",
              "      <td>9.0</td>\n",
              "      <td>25.0</td>\n",
              "      <td>549.0</td>\n",
              "      <td>44.0</td>\n",
              "      <td>Juanna Vines</td>\n",
              "      <td>True</td>\n",
              "    </tr>\n",
              "    <tr>\n",
              "      <th>2</th>\n",
              "      <td>0003_01</td>\n",
              "      <td>Europa</td>\n",
              "      <td>False</td>\n",
              "      <td>A/0/S</td>\n",
              "      <td>TRAPPIST-1e</td>\n",
              "      <td>58.0</td>\n",
              "      <td>True</td>\n",
              "      <td>43.0</td>\n",
              "      <td>3576.0</td>\n",
              "      <td>0.0</td>\n",
              "      <td>6715.0</td>\n",
              "      <td>49.0</td>\n",
              "      <td>Altark Susent</td>\n",
              "      <td>False</td>\n",
              "    </tr>\n",
              "    <tr>\n",
              "      <th>3</th>\n",
              "      <td>0003_02</td>\n",
              "      <td>Europa</td>\n",
              "      <td>False</td>\n",
              "      <td>A/0/S</td>\n",
              "      <td>TRAPPIST-1e</td>\n",
              "      <td>33.0</td>\n",
              "      <td>False</td>\n",
              "      <td>0.0</td>\n",
              "      <td>1283.0</td>\n",
              "      <td>371.0</td>\n",
              "      <td>3329.0</td>\n",
              "      <td>193.0</td>\n",
              "      <td>Solam Susent</td>\n",
              "      <td>False</td>\n",
              "    </tr>\n",
              "    <tr>\n",
              "      <th>4</th>\n",
              "      <td>0004_01</td>\n",
              "      <td>Earth</td>\n",
              "      <td>False</td>\n",
              "      <td>F/1/S</td>\n",
              "      <td>TRAPPIST-1e</td>\n",
              "      <td>16.0</td>\n",
              "      <td>False</td>\n",
              "      <td>303.0</td>\n",
              "      <td>70.0</td>\n",
              "      <td>151.0</td>\n",
              "      <td>565.0</td>\n",
              "      <td>2.0</td>\n",
              "      <td>Willy Santantines</td>\n",
              "      <td>True</td>\n",
              "    </tr>\n",
              "    <tr>\n",
              "      <th>...</th>\n",
              "      <td>...</td>\n",
              "      <td>...</td>\n",
              "      <td>...</td>\n",
              "      <td>...</td>\n",
              "      <td>...</td>\n",
              "      <td>...</td>\n",
              "      <td>...</td>\n",
              "      <td>...</td>\n",
              "      <td>...</td>\n",
              "      <td>...</td>\n",
              "      <td>...</td>\n",
              "      <td>...</td>\n",
              "      <td>...</td>\n",
              "      <td>...</td>\n",
              "    </tr>\n",
              "    <tr>\n",
              "      <th>8688</th>\n",
              "      <td>9276_01</td>\n",
              "      <td>Europa</td>\n",
              "      <td>False</td>\n",
              "      <td>A/98/P</td>\n",
              "      <td>55 Cancri e</td>\n",
              "      <td>41.0</td>\n",
              "      <td>True</td>\n",
              "      <td>0.0</td>\n",
              "      <td>6819.0</td>\n",
              "      <td>0.0</td>\n",
              "      <td>1643.0</td>\n",
              "      <td>74.0</td>\n",
              "      <td>Gravior Noxnuther</td>\n",
              "      <td>False</td>\n",
              "    </tr>\n",
              "    <tr>\n",
              "      <th>8689</th>\n",
              "      <td>9278_01</td>\n",
              "      <td>Earth</td>\n",
              "      <td>True</td>\n",
              "      <td>G/1499/S</td>\n",
              "      <td>PSO J318.5-22</td>\n",
              "      <td>18.0</td>\n",
              "      <td>False</td>\n",
              "      <td>0.0</td>\n",
              "      <td>0.0</td>\n",
              "      <td>0.0</td>\n",
              "      <td>0.0</td>\n",
              "      <td>0.0</td>\n",
              "      <td>Kurta Mondalley</td>\n",
              "      <td>False</td>\n",
              "    </tr>\n",
              "    <tr>\n",
              "      <th>8690</th>\n",
              "      <td>9279_01</td>\n",
              "      <td>Earth</td>\n",
              "      <td>False</td>\n",
              "      <td>G/1500/S</td>\n",
              "      <td>TRAPPIST-1e</td>\n",
              "      <td>26.0</td>\n",
              "      <td>False</td>\n",
              "      <td>0.0</td>\n",
              "      <td>0.0</td>\n",
              "      <td>1872.0</td>\n",
              "      <td>1.0</td>\n",
              "      <td>0.0</td>\n",
              "      <td>Fayey Connon</td>\n",
              "      <td>True</td>\n",
              "    </tr>\n",
              "    <tr>\n",
              "      <th>8691</th>\n",
              "      <td>9280_01</td>\n",
              "      <td>Europa</td>\n",
              "      <td>False</td>\n",
              "      <td>E/608/S</td>\n",
              "      <td>55 Cancri e</td>\n",
              "      <td>32.0</td>\n",
              "      <td>False</td>\n",
              "      <td>0.0</td>\n",
              "      <td>1049.0</td>\n",
              "      <td>0.0</td>\n",
              "      <td>353.0</td>\n",
              "      <td>3235.0</td>\n",
              "      <td>Celeon Hontichre</td>\n",
              "      <td>False</td>\n",
              "    </tr>\n",
              "    <tr>\n",
              "      <th>8692</th>\n",
              "      <td>9280_02</td>\n",
              "      <td>Europa</td>\n",
              "      <td>False</td>\n",
              "      <td>E/608/S</td>\n",
              "      <td>TRAPPIST-1e</td>\n",
              "      <td>44.0</td>\n",
              "      <td>False</td>\n",
              "      <td>126.0</td>\n",
              "      <td>4688.0</td>\n",
              "      <td>0.0</td>\n",
              "      <td>0.0</td>\n",
              "      <td>12.0</td>\n",
              "      <td>Propsh Hontichre</td>\n",
              "      <td>True</td>\n",
              "    </tr>\n",
              "  </tbody>\n",
              "</table>\n",
              "<p>8693 rows × 14 columns</p>\n",
              "</div>\n",
              "      <button class=\"colab-df-convert\" onclick=\"convertToInteractive('df-15ea7335-80a0-4a4f-8655-fe72fffab9ba')\"\n",
              "              title=\"Convert this dataframe to an interactive table.\"\n",
              "              style=\"display:none;\">\n",
              "        \n",
              "  <svg xmlns=\"http://www.w3.org/2000/svg\" height=\"24px\"viewBox=\"0 0 24 24\"\n",
              "       width=\"24px\">\n",
              "    <path d=\"M0 0h24v24H0V0z\" fill=\"none\"/>\n",
              "    <path d=\"M18.56 5.44l.94 2.06.94-2.06 2.06-.94-2.06-.94-.94-2.06-.94 2.06-2.06.94zm-11 1L8.5 8.5l.94-2.06 2.06-.94-2.06-.94L8.5 2.5l-.94 2.06-2.06.94zm10 10l.94 2.06.94-2.06 2.06-.94-2.06-.94-.94-2.06-.94 2.06-2.06.94z\"/><path d=\"M17.41 7.96l-1.37-1.37c-.4-.4-.92-.59-1.43-.59-.52 0-1.04.2-1.43.59L10.3 9.45l-7.72 7.72c-.78.78-.78 2.05 0 2.83L4 21.41c.39.39.9.59 1.41.59.51 0 1.02-.2 1.41-.59l7.78-7.78 2.81-2.81c.8-.78.8-2.07 0-2.86zM5.41 20L4 18.59l7.72-7.72 1.47 1.35L5.41 20z\"/>\n",
              "  </svg>\n",
              "      </button>\n",
              "      \n",
              "  <style>\n",
              "    .colab-df-container {\n",
              "      display:flex;\n",
              "      flex-wrap:wrap;\n",
              "      gap: 12px;\n",
              "    }\n",
              "\n",
              "    .colab-df-convert {\n",
              "      background-color: #E8F0FE;\n",
              "      border: none;\n",
              "      border-radius: 50%;\n",
              "      cursor: pointer;\n",
              "      display: none;\n",
              "      fill: #1967D2;\n",
              "      height: 32px;\n",
              "      padding: 0 0 0 0;\n",
              "      width: 32px;\n",
              "    }\n",
              "\n",
              "    .colab-df-convert:hover {\n",
              "      background-color: #E2EBFA;\n",
              "      box-shadow: 0px 1px 2px rgba(60, 64, 67, 0.3), 0px 1px 3px 1px rgba(60, 64, 67, 0.15);\n",
              "      fill: #174EA6;\n",
              "    }\n",
              "\n",
              "    [theme=dark] .colab-df-convert {\n",
              "      background-color: #3B4455;\n",
              "      fill: #D2E3FC;\n",
              "    }\n",
              "\n",
              "    [theme=dark] .colab-df-convert:hover {\n",
              "      background-color: #434B5C;\n",
              "      box-shadow: 0px 1px 3px 1px rgba(0, 0, 0, 0.15);\n",
              "      filter: drop-shadow(0px 1px 2px rgba(0, 0, 0, 0.3));\n",
              "      fill: #FFFFFF;\n",
              "    }\n",
              "  </style>\n",
              "\n",
              "      <script>\n",
              "        const buttonEl =\n",
              "          document.querySelector('#df-15ea7335-80a0-4a4f-8655-fe72fffab9ba button.colab-df-convert');\n",
              "        buttonEl.style.display =\n",
              "          google.colab.kernel.accessAllowed ? 'block' : 'none';\n",
              "\n",
              "        async function convertToInteractive(key) {\n",
              "          const element = document.querySelector('#df-15ea7335-80a0-4a4f-8655-fe72fffab9ba');\n",
              "          const dataTable =\n",
              "            await google.colab.kernel.invokeFunction('convertToInteractive',\n",
              "                                                     [key], {});\n",
              "          if (!dataTable) return;\n",
              "\n",
              "          const docLinkHtml = 'Like what you see? Visit the ' +\n",
              "            '<a target=\"_blank\" href=https://colab.research.google.com/notebooks/data_table.ipynb>data table notebook</a>'\n",
              "            + ' to learn more about interactive tables.';\n",
              "          element.innerHTML = '';\n",
              "          dataTable['output_type'] = 'display_data';\n",
              "          await google.colab.output.renderOutput(dataTable, element);\n",
              "          const docLink = document.createElement('div');\n",
              "          docLink.innerHTML = docLinkHtml;\n",
              "          element.appendChild(docLink);\n",
              "        }\n",
              "      </script>\n",
              "    </div>\n",
              "  </div>\n",
              "  "
            ]
          },
          "metadata": {},
          "execution_count": 2
        }
      ]
    },
    {
      "cell_type": "code",
      "source": [
        "train.nunique()"
      ],
      "metadata": {
        "colab": {
          "base_uri": "https://localhost:8080/"
        },
        "id": "9dadz276lpuK",
        "outputId": "cf7d1257-594f-479e-f4d1-0a82efe71724"
      },
      "execution_count": null,
      "outputs": [
        {
          "output_type": "execute_result",
          "data": {
            "text/plain": [
              "PassengerId     8693\n",
              "HomePlanet         3\n",
              "CryoSleep          2\n",
              "Cabin           6560\n",
              "Destination        3\n",
              "Age               80\n",
              "VIP                2\n",
              "RoomService     1273\n",
              "FoodCourt       1507\n",
              "ShoppingMall    1115\n",
              "Spa             1327\n",
              "VRDeck          1306\n",
              "Name            8473\n",
              "Transported        2\n",
              "dtype: int64"
            ]
          },
          "metadata": {},
          "execution_count": 3
        }
      ]
    },
    {
      "cell_type": "code",
      "source": [
        "print('TRAIN SET MISSING VALUES:')\n",
        "print(train.isna().sum())\n",
        "print('')\n",
        "print('TEST SET MISSING VALUES:')\n",
        "print(test.isna().sum())"
      ],
      "metadata": {
        "colab": {
          "base_uri": "https://localhost:8080/"
        },
        "id": "tdAnGko9lrd6",
        "outputId": "7741a7fb-b9e1-43cb-d119-4ada00303a33"
      },
      "execution_count": null,
      "outputs": [
        {
          "output_type": "stream",
          "name": "stdout",
          "text": [
            "TRAIN SET MISSING VALUES:\n",
            "PassengerId       0\n",
            "HomePlanet      201\n",
            "CryoSleep       217\n",
            "Cabin           199\n",
            "Destination     182\n",
            "Age             179\n",
            "VIP             203\n",
            "RoomService     181\n",
            "FoodCourt       183\n",
            "ShoppingMall    208\n",
            "Spa             183\n",
            "VRDeck          188\n",
            "Name            200\n",
            "Transported       0\n",
            "dtype: int64\n",
            "\n",
            "TEST SET MISSING VALUES:\n",
            "PassengerId       0\n",
            "HomePlanet       87\n",
            "CryoSleep        93\n",
            "Cabin           100\n",
            "Destination      92\n",
            "Age              91\n",
            "VIP              93\n",
            "RoomService      82\n",
            "FoodCourt       106\n",
            "ShoppingMall     98\n",
            "Spa             101\n",
            "VRDeck           80\n",
            "Name             94\n",
            "dtype: int64\n"
          ]
        }
      ]
    },
    {
      "cell_type": "code",
      "source": [
        "# New features - training set\n",
        "train['Age_group']=np.nan\n",
        "train.loc[train['Age']<=12,'Age_group']='Age_0-12'\n",
        "train.loc[(train['Age']>12) & (train['Age']<18),'Age_group']='Age_13-17'\n",
        "train.loc[(train['Age']>=18) & (train['Age']<=25),'Age_group']='Age_18-25'\n",
        "train.loc[(train['Age']>25) & (train['Age']<=30),'Age_group']='Age_26-30'\n",
        "train.loc[(train['Age']>30) & (train['Age']<=50),'Age_group']='Age_31-50'\n",
        "train.loc[train['Age']>50,'Age_group']='Age_51+'\n",
        "\n",
        "# New features - test set\n",
        "test['Age_group']=np.nan\n",
        "test.loc[test['Age']<=12,'Age_group']='Age_0-12'\n",
        "test.loc[(test['Age']>12) & (test['Age']<18),'Age_group']='Age_13-17'\n",
        "test.loc[(test['Age']>=18) & (test['Age']<=25),'Age_group']='Age_18-25'\n",
        "test.loc[(test['Age']>25) & (test['Age']<=30),'Age_group']='Age_26-30'\n",
        "test.loc[(test['Age']>30) & (test['Age']<=50),'Age_group']='Age_31-50'\n",
        "test.loc[test['Age']>50,'Age_group']='Age_51+'"
      ],
      "metadata": {
        "id": "WTThpESKr9lK"
      },
      "execution_count": null,
      "outputs": []
    },
    {
      "cell_type": "code",
      "source": [
        "exp_feats=['RoomService', 'FoodCourt', 'ShoppingMall', 'Spa', 'VRDeck']\n",
        "\n",
        "# New features - training set\n",
        "train['Expenditure']=train[exp_feats].sum(axis=1)\n",
        "train['No_spending']=(train['Expenditure']==0).astype(int)\n",
        "\n",
        "# New features - test set\n",
        "test['Expenditure']=test[exp_feats].sum(axis=1)\n",
        "test['No_spending']=(test['Expenditure']==0).astype(int)"
      ],
      "metadata": {
        "id": "ZX7_2l5fsxaQ"
      },
      "execution_count": null,
      "outputs": []
    },
    {
      "cell_type": "code",
      "source": [
        "# New feature - Group\n",
        "train['Group'] = train['PassengerId'].apply(lambda x: x.split('_')[0]).astype(int)\n",
        "test['Group'] = test['PassengerId'].apply(lambda x: x.split('_')[0]).astype(int)\n",
        "\n",
        "# New feature - Group size\n",
        "train['Group_size']=train['Group'].map(lambda x: pd.concat([train['Group'], test['Group']]).value_counts()[x])\n",
        "test['Group_size']=test['Group'].map(lambda x: pd.concat([train['Group'], test['Group']]).value_counts()[x])"
      ],
      "metadata": {
        "id": "jBS8NhiZtAmZ"
      },
      "execution_count": null,
      "outputs": []
    },
    {
      "cell_type": "code",
      "source": [
        "# New feature\n",
        "train['Solo']=(train['Group_size']==1).astype(int)\n",
        "test['Solo']=(test['Group_size']==1).astype(int)"
      ],
      "metadata": {
        "id": "cQqJkm64tOw0"
      },
      "execution_count": null,
      "outputs": []
    },
    {
      "cell_type": "code",
      "source": [
        "# Replace NaN's with outliers for now (so we can split feature)\n",
        "train['Cabin'].fillna('Z/9999/Z', inplace=True)\n",
        "test['Cabin'].fillna('Z/9999/Z', inplace=True)\n",
        "\n",
        "# New features - training set\n",
        "train['Cabin_deck'] = train['Cabin'].apply(lambda x: x.split('/')[0])\n",
        "train['Cabin_number'] = train['Cabin'].apply(lambda x: x.split('/')[1]).astype(int)\n",
        "train['Cabin_side'] = train['Cabin'].apply(lambda x: x.split('/')[2])\n",
        "\n",
        "# New features - test set\n",
        "test['Cabin_deck'] = test['Cabin'].apply(lambda x: x.split('/')[0])\n",
        "test['Cabin_number'] = test['Cabin'].apply(lambda x: x.split('/')[1]).astype(int)\n",
        "test['Cabin_side'] = test['Cabin'].apply(lambda x: x.split('/')[2])\n",
        "\n",
        "# Put Nan's back in (we will fill these later)\n",
        "train.loc[train['Cabin_deck']=='Z', 'Cabin_deck']=np.nan\n",
        "train.loc[train['Cabin_number']==9999, 'Cabin_number']=np.nan\n",
        "train.loc[train['Cabin_side']=='Z', 'Cabin_side']=np.nan\n",
        "test.loc[test['Cabin_deck']=='Z', 'Cabin_deck']=np.nan\n",
        "test.loc[test['Cabin_number']==9999, 'Cabin_number']=np.nan\n",
        "test.loc[test['Cabin_side']=='Z', 'Cabin_side']=np.nan\n",
        "\n",
        "# Drop Cabin (we don't need it anymore)\n",
        "train.drop('Cabin', axis=1, inplace=True)\n",
        "test.drop('Cabin', axis=1, inplace=True)"
      ],
      "metadata": {
        "id": "VWs5xa5BtZxD"
      },
      "execution_count": null,
      "outputs": []
    },
    {
      "cell_type": "code",
      "source": [
        "# New features - training set\n",
        "train['Cabin_region1']=(train['Cabin_number']<300).astype(int)   # one-hot encoding\n",
        "train['Cabin_region2']=((train['Cabin_number']>=300) & (train['Cabin_number']<600)).astype(int)\n",
        "train['Cabin_region3']=((train['Cabin_number']>=600) & (train['Cabin_number']<900)).astype(int)\n",
        "train['Cabin_region4']=((train['Cabin_number']>=900) & (train['Cabin_number']<1200)).astype(int)\n",
        "train['Cabin_region5']=((train['Cabin_number']>=1200) & (train['Cabin_number']<1500)).astype(int)\n",
        "train['Cabin_region6']=((train['Cabin_number']>=1500) & (train['Cabin_number']<1800)).astype(int)\n",
        "train['Cabin_region7']=(train['Cabin_number']>=1800).astype(int)\n",
        "\n",
        "# New features - test set\n",
        "test['Cabin_region1']=(test['Cabin_number']<300).astype(int)   # one-hot encoding\n",
        "test['Cabin_region2']=((test['Cabin_number']>=300) & (test['Cabin_number']<600)).astype(int)\n",
        "test['Cabin_region3']=((test['Cabin_number']>=600) & (test['Cabin_number']<900)).astype(int)\n",
        "test['Cabin_region4']=((test['Cabin_number']>=900) & (test['Cabin_number']<1200)).astype(int)\n",
        "test['Cabin_region5']=((test['Cabin_number']>=1200) & (test['Cabin_number']<1500)).astype(int)\n",
        "test['Cabin_region6']=((test['Cabin_number']>=1500) & (test['Cabin_number']<1800)).astype(int)\n",
        "test['Cabin_region7']=(test['Cabin_number']>=1800).astype(int)"
      ],
      "metadata": {
        "id": "m5TKkmvPtsc-"
      },
      "execution_count": null,
      "outputs": []
    },
    {
      "cell_type": "code",
      "source": [
        "# Replace NaN's with outliers for now (so we can split feature)\n",
        "train['Name'].fillna('Unknown Unknown', inplace=True)\n",
        "test['Name'].fillna('Unknown Unknown', inplace=True)\n",
        "\n",
        "# New feature - Surname\n",
        "train['Surname']=train['Name'].str.split().str[-1]\n",
        "test['Surname']=test['Name'].str.split().str[-1]\n",
        "\n",
        "# New feature - Family size\n",
        "train['Family_size']=train['Surname'].map(lambda x: pd.concat([train['Surname'],test['Surname']]).value_counts()[x])\n",
        "test['Family_size']=test['Surname'].map(lambda x: pd.concat([train['Surname'],test['Surname']]).value_counts()[x])\n",
        "\n",
        "# Put Nan's back in (we will fill these later)\n",
        "train.loc[train['Surname']=='Unknown','Surname']=np.nan\n",
        "train.loc[train['Family_size']>100,'Family_size']=np.nan\n",
        "test.loc[test['Surname']=='Unknown','Surname']=np.nan\n",
        "test.loc[test['Family_size']>100,'Family_size']=np.nan\n",
        "\n",
        "# Drop name (we don't need it anymore)\n",
        "train.drop('Name', axis=1, inplace=True)\n",
        "test.drop('Name', axis=1, inplace=True)"
      ],
      "metadata": {
        "id": "s5-bdZI5uCnh"
      },
      "execution_count": null,
      "outputs": []
    },
    {
      "cell_type": "code",
      "source": [
        "# Labels and features\n",
        "y=train['Transported'].copy().astype(int)\n",
        "X=train.drop('Transported', axis=1).copy()\n",
        "\n",
        "# Concatenate dataframes\n",
        "data=pd.concat([X, test], axis=0).reset_index(drop=True)"
      ],
      "metadata": {
        "id": "mVMxQ5MBuEwh"
      },
      "execution_count": null,
      "outputs": []
    },
    {
      "cell_type": "code",
      "source": [
        "# Columns with missing values\n",
        "na_cols=data.columns[data.isna().any()].tolist()\n",
        "\n",
        "# Missing values summary\n",
        "mv=pd.DataFrame(data[na_cols].isna().sum(), columns=['Number_missing'])\n",
        "mv['Percentage_missing']=np.round(100*mv['Number_missing']/len(data),2)\n",
        "mv"
      ],
      "metadata": {
        "colab": {
          "base_uri": "https://localhost:8080/",
          "height": 551
        },
        "id": "bQ6ZM_vmubCf",
        "outputId": "3dc2f50a-138c-42e5-b261-054bc1745565"
      },
      "execution_count": null,
      "outputs": [
        {
          "output_type": "execute_result",
          "data": {
            "text/plain": [
              "              Number_missing  Percentage_missing\n",
              "HomePlanet               288                2.22\n",
              "CryoSleep                310                2.39\n",
              "Destination              274                2.11\n",
              "Age                      270                2.08\n",
              "VIP                      296                2.28\n",
              "RoomService              263                2.03\n",
              "FoodCourt                289                2.23\n",
              "ShoppingMall             306                2.36\n",
              "Spa                      284                2.19\n",
              "VRDeck                   268                2.07\n",
              "Age_group                270                2.08\n",
              "Cabin_deck               299                2.31\n",
              "Cabin_number             299                2.31\n",
              "Cabin_side               299                2.31\n",
              "Surname                  294                2.27\n",
              "Family_size              294                2.27"
            ],
            "text/html": [
              "\n",
              "  <div id=\"df-290326a2-0d5e-4f17-828c-fff21e52dce2\">\n",
              "    <div class=\"colab-df-container\">\n",
              "      <div>\n",
              "<style scoped>\n",
              "    .dataframe tbody tr th:only-of-type {\n",
              "        vertical-align: middle;\n",
              "    }\n",
              "\n",
              "    .dataframe tbody tr th {\n",
              "        vertical-align: top;\n",
              "    }\n",
              "\n",
              "    .dataframe thead th {\n",
              "        text-align: right;\n",
              "    }\n",
              "</style>\n",
              "<table border=\"1\" class=\"dataframe\">\n",
              "  <thead>\n",
              "    <tr style=\"text-align: right;\">\n",
              "      <th></th>\n",
              "      <th>Number_missing</th>\n",
              "      <th>Percentage_missing</th>\n",
              "    </tr>\n",
              "  </thead>\n",
              "  <tbody>\n",
              "    <tr>\n",
              "      <th>HomePlanet</th>\n",
              "      <td>288</td>\n",
              "      <td>2.22</td>\n",
              "    </tr>\n",
              "    <tr>\n",
              "      <th>CryoSleep</th>\n",
              "      <td>310</td>\n",
              "      <td>2.39</td>\n",
              "    </tr>\n",
              "    <tr>\n",
              "      <th>Destination</th>\n",
              "      <td>274</td>\n",
              "      <td>2.11</td>\n",
              "    </tr>\n",
              "    <tr>\n",
              "      <th>Age</th>\n",
              "      <td>270</td>\n",
              "      <td>2.08</td>\n",
              "    </tr>\n",
              "    <tr>\n",
              "      <th>VIP</th>\n",
              "      <td>296</td>\n",
              "      <td>2.28</td>\n",
              "    </tr>\n",
              "    <tr>\n",
              "      <th>RoomService</th>\n",
              "      <td>263</td>\n",
              "      <td>2.03</td>\n",
              "    </tr>\n",
              "    <tr>\n",
              "      <th>FoodCourt</th>\n",
              "      <td>289</td>\n",
              "      <td>2.23</td>\n",
              "    </tr>\n",
              "    <tr>\n",
              "      <th>ShoppingMall</th>\n",
              "      <td>306</td>\n",
              "      <td>2.36</td>\n",
              "    </tr>\n",
              "    <tr>\n",
              "      <th>Spa</th>\n",
              "      <td>284</td>\n",
              "      <td>2.19</td>\n",
              "    </tr>\n",
              "    <tr>\n",
              "      <th>VRDeck</th>\n",
              "      <td>268</td>\n",
              "      <td>2.07</td>\n",
              "    </tr>\n",
              "    <tr>\n",
              "      <th>Age_group</th>\n",
              "      <td>270</td>\n",
              "      <td>2.08</td>\n",
              "    </tr>\n",
              "    <tr>\n",
              "      <th>Cabin_deck</th>\n",
              "      <td>299</td>\n",
              "      <td>2.31</td>\n",
              "    </tr>\n",
              "    <tr>\n",
              "      <th>Cabin_number</th>\n",
              "      <td>299</td>\n",
              "      <td>2.31</td>\n",
              "    </tr>\n",
              "    <tr>\n",
              "      <th>Cabin_side</th>\n",
              "      <td>299</td>\n",
              "      <td>2.31</td>\n",
              "    </tr>\n",
              "    <tr>\n",
              "      <th>Surname</th>\n",
              "      <td>294</td>\n",
              "      <td>2.27</td>\n",
              "    </tr>\n",
              "    <tr>\n",
              "      <th>Family_size</th>\n",
              "      <td>294</td>\n",
              "      <td>2.27</td>\n",
              "    </tr>\n",
              "  </tbody>\n",
              "</table>\n",
              "</div>\n",
              "      <button class=\"colab-df-convert\" onclick=\"convertToInteractive('df-290326a2-0d5e-4f17-828c-fff21e52dce2')\"\n",
              "              title=\"Convert this dataframe to an interactive table.\"\n",
              "              style=\"display:none;\">\n",
              "        \n",
              "  <svg xmlns=\"http://www.w3.org/2000/svg\" height=\"24px\"viewBox=\"0 0 24 24\"\n",
              "       width=\"24px\">\n",
              "    <path d=\"M0 0h24v24H0V0z\" fill=\"none\"/>\n",
              "    <path d=\"M18.56 5.44l.94 2.06.94-2.06 2.06-.94-2.06-.94-.94-2.06-.94 2.06-2.06.94zm-11 1L8.5 8.5l.94-2.06 2.06-.94-2.06-.94L8.5 2.5l-.94 2.06-2.06.94zm10 10l.94 2.06.94-2.06 2.06-.94-2.06-.94-.94-2.06-.94 2.06-2.06.94z\"/><path d=\"M17.41 7.96l-1.37-1.37c-.4-.4-.92-.59-1.43-.59-.52 0-1.04.2-1.43.59L10.3 9.45l-7.72 7.72c-.78.78-.78 2.05 0 2.83L4 21.41c.39.39.9.59 1.41.59.51 0 1.02-.2 1.41-.59l7.78-7.78 2.81-2.81c.8-.78.8-2.07 0-2.86zM5.41 20L4 18.59l7.72-7.72 1.47 1.35L5.41 20z\"/>\n",
              "  </svg>\n",
              "      </button>\n",
              "      \n",
              "  <style>\n",
              "    .colab-df-container {\n",
              "      display:flex;\n",
              "      flex-wrap:wrap;\n",
              "      gap: 12px;\n",
              "    }\n",
              "\n",
              "    .colab-df-convert {\n",
              "      background-color: #E8F0FE;\n",
              "      border: none;\n",
              "      border-radius: 50%;\n",
              "      cursor: pointer;\n",
              "      display: none;\n",
              "      fill: #1967D2;\n",
              "      height: 32px;\n",
              "      padding: 0 0 0 0;\n",
              "      width: 32px;\n",
              "    }\n",
              "\n",
              "    .colab-df-convert:hover {\n",
              "      background-color: #E2EBFA;\n",
              "      box-shadow: 0px 1px 2px rgba(60, 64, 67, 0.3), 0px 1px 3px 1px rgba(60, 64, 67, 0.15);\n",
              "      fill: #174EA6;\n",
              "    }\n",
              "\n",
              "    [theme=dark] .colab-df-convert {\n",
              "      background-color: #3B4455;\n",
              "      fill: #D2E3FC;\n",
              "    }\n",
              "\n",
              "    [theme=dark] .colab-df-convert:hover {\n",
              "      background-color: #434B5C;\n",
              "      box-shadow: 0px 1px 3px 1px rgba(0, 0, 0, 0.15);\n",
              "      filter: drop-shadow(0px 1px 2px rgba(0, 0, 0, 0.3));\n",
              "      fill: #FFFFFF;\n",
              "    }\n",
              "  </style>\n",
              "\n",
              "      <script>\n",
              "        const buttonEl =\n",
              "          document.querySelector('#df-290326a2-0d5e-4f17-828c-fff21e52dce2 button.colab-df-convert');\n",
              "        buttonEl.style.display =\n",
              "          google.colab.kernel.accessAllowed ? 'block' : 'none';\n",
              "\n",
              "        async function convertToInteractive(key) {\n",
              "          const element = document.querySelector('#df-290326a2-0d5e-4f17-828c-fff21e52dce2');\n",
              "          const dataTable =\n",
              "            await google.colab.kernel.invokeFunction('convertToInteractive',\n",
              "                                                     [key], {});\n",
              "          if (!dataTable) return;\n",
              "\n",
              "          const docLinkHtml = 'Like what you see? Visit the ' +\n",
              "            '<a target=\"_blank\" href=https://colab.research.google.com/notebooks/data_table.ipynb>data table notebook</a>'\n",
              "            + ' to learn more about interactive tables.';\n",
              "          element.innerHTML = '';\n",
              "          dataTable['output_type'] = 'display_data';\n",
              "          await google.colab.output.renderOutput(dataTable, element);\n",
              "          const docLink = document.createElement('div');\n",
              "          docLink.innerHTML = docLinkHtml;\n",
              "          element.appendChild(docLink);\n",
              "        }\n",
              "      </script>\n",
              "    </div>\n",
              "  </div>\n",
              "  "
            ]
          },
          "metadata": {},
          "execution_count": 14
        }
      ]
    },
    {
      "cell_type": "code",
      "source": [
        "# Joint distribution of Group and HomePlanet\n",
        "GHP_gb=data.groupby(['Group','HomePlanet'])['HomePlanet'].size().unstack().fillna(0)\n",
        "GHP_gb.head()\n",
        "\n",
        "# Missing values before\n",
        "HP_bef=data['HomePlanet'].isna().sum()\n",
        "\n",
        "# Passengers with missing HomePlanet and in a group with known HomePlanet\n",
        "GHP_index=data[data['HomePlanet'].isna()][(data[data['HomePlanet'].isna()]['Group']).isin(GHP_gb.index)].index\n",
        "\n",
        "# Fill corresponding missing values\n",
        "data.loc[GHP_index,'HomePlanet']=data.iloc[GHP_index,:]['Group'].map(lambda x: GHP_gb.idxmax(axis=1)[x])\n",
        "\n",
        "# Print number of missing values left\n",
        "print('#HomePlanet missing values before:',HP_bef)\n",
        "print('#HomePlanet missing values after:',data['HomePlanet'].isna().sum())"
      ],
      "metadata": {
        "colab": {
          "base_uri": "https://localhost:8080/"
        },
        "id": "DnchmAHKuscM",
        "outputId": "ea6c5509-3b90-48bc-f390-59e832ab86aa"
      },
      "execution_count": null,
      "outputs": [
        {
          "output_type": "stream",
          "name": "stdout",
          "text": [
            "#HomePlanet missing values before: 288\n",
            "#HomePlanet missing values after: 157\n"
          ]
        }
      ]
    },
    {
      "cell_type": "code",
      "source": [
        "# Missing values before\n",
        "HP_bef=data['HomePlanet'].isna().sum()\n",
        "\n",
        "# Decks A, B, C or T came from Europa\n",
        "data.loc[(data['HomePlanet'].isna()) & (data['Cabin_deck'].isin(['A', 'B', 'C', 'T'])), 'HomePlanet']='Europa'\n",
        "\n",
        "# Deck G came from Earth\n",
        "data.loc[(data['HomePlanet'].isna()) & (data['Cabin_deck']=='G'), 'HomePlanet']='Earth'\n",
        "\n",
        "# Print number of missing values left\n",
        "print('#HomePlanet missing values before:',HP_bef)\n",
        "print('#HomePlanet missing values after:',data['HomePlanet'].isna().sum())"
      ],
      "metadata": {
        "colab": {
          "base_uri": "https://localhost:8080/"
        },
        "id": "c8nC2-vOvX38",
        "outputId": "ada50365-2f36-401f-c0e9-ee1d990d8ee5"
      },
      "execution_count": null,
      "outputs": [
        {
          "output_type": "stream",
          "name": "stdout",
          "text": [
            "#HomePlanet missing values before: 157\n",
            "#HomePlanet missing values after: 94\n"
          ]
        }
      ]
    },
    {
      "cell_type": "code",
      "source": [
        "# Missing values before\n",
        "HP_bef=data['HomePlanet'].isna().sum()\n",
        "\n",
        "# Passengers with missing HomePlanet and in a family with known HomePlanet\n",
        "SHP_index=data[data['HomePlanet'].isna()][(data[data['HomePlanet'].isna()]['Surname']).isin(SHP_gb.index)].index\n",
        "\n",
        "# Fill corresponding missing values\n",
        "data.loc[SHP_index,'HomePlanet']=data.iloc[SHP_index,:]['Surname'].map(lambda x: SHP_gb.idxmax(axis=1)[x])\n",
        "\n",
        "# Print number of missing values left\n",
        "print('#HomePlanet missing values before:',HP_bef)\n",
        "print('#HomePlanet missing values after:',data['HomePlanet'].isna().sum())"
      ],
      "metadata": {
        "colab": {
          "base_uri": "https://localhost:8080/"
        },
        "id": "_VtWkFRLv6ph",
        "outputId": "748bb292-6cfe-416d-8ab9-76cfe6472400"
      },
      "execution_count": null,
      "outputs": [
        {
          "output_type": "stream",
          "name": "stdout",
          "text": [
            "#HomePlanet missing values before: 94\n",
            "#HomePlanet missing values after: 10\n"
          ]
        }
      ]
    },
    {
      "cell_type": "code",
      "source": [
        "# Missing values before\n",
        "HP_bef=data['HomePlanet'].isna().sum()\n",
        "\n",
        "# Fill remaining HomePlanet missing values with Earth (if not on deck D) or Mars (if on Deck D)\n",
        "data.loc[(data['HomePlanet'].isna()) & ~(data['Cabin_deck']=='D'), 'HomePlanet']='Earth'\n",
        "data.loc[(data['HomePlanet'].isna()) & (data['Cabin_deck']=='D'), 'HomePlanet']='Mars'\n",
        "\n",
        "# Print number of missing values left\n",
        "print('#HomePlanet missing values before:',HP_bef)\n",
        "print('#HomePlanet missing values after:',data['HomePlanet'].isna().sum())"
      ],
      "metadata": {
        "colab": {
          "base_uri": "https://localhost:8080/"
        },
        "id": "2DBGc__pwD63",
        "outputId": "c57af642-fa6e-4d45-e9de-cedf2a873d85"
      },
      "execution_count": null,
      "outputs": [
        {
          "output_type": "stream",
          "name": "stdout",
          "text": [
            "#HomePlanet missing values before: 10\n",
            "#HomePlanet missing values after: 0\n"
          ]
        }
      ]
    },
    {
      "cell_type": "code",
      "source": [
        "# Missing values before\n",
        "D_bef=data['Destination'].isna().sum()\n",
        "\n",
        "# Fill missing Destination values with mode\n",
        "data.loc[(data['Destination'].isna()), 'Destination']='TRAPPIST-1e'\n",
        "\n",
        "# Print number of missing values left\n",
        "print('#Destination missing values before:',D_bef)\n",
        "print('#Destination missing values after:',data['Destination'].isna().sum())"
      ],
      "metadata": {
        "colab": {
          "base_uri": "https://localhost:8080/"
        },
        "id": "07JkZ2OwwUSa",
        "outputId": "76e745ee-c81b-446a-b0ed-3f1ae5999931"
      },
      "execution_count": null,
      "outputs": [
        {
          "output_type": "stream",
          "name": "stdout",
          "text": [
            "#Destination missing values before: 274\n",
            "#Destination missing values after: 0\n"
          ]
        }
      ]
    },
    {
      "cell_type": "code",
      "source": [
        "# Missing values before\n",
        "SN_bef=data['Surname'].isna().sum()\n",
        "\n",
        "# Passengers with missing Surname and in a group with known majority Surname\n",
        "GSN_index=data[data['Surname'].isna()][(data[data['Surname'].isna()]['Group']).isin(GSN_gb.index)].index\n",
        "\n",
        "# Fill corresponding missing values\n",
        "data.loc[GSN_index,'Surname']=data.iloc[GSN_index,:]['Group'].map(lambda x: GSN_gb.idxmax(axis=1)[x])\n",
        "\n",
        "# Print number of missing values left\n",
        "print('#Surname missing values before:',SN_bef)\n",
        "print('#Surname missing values after:',data['Surname'].isna().sum())"
      ],
      "metadata": {
        "colab": {
          "base_uri": "https://localhost:8080/"
        },
        "id": "vS_TlKJtwgfy",
        "outputId": "946b31d6-d306-4220-8dc0-5bafa0b8eae7"
      },
      "execution_count": null,
      "outputs": [
        {
          "output_type": "stream",
          "name": "stdout",
          "text": [
            "#Surname missing values before: 294\n",
            "#Surname missing values after: 155\n"
          ]
        }
      ]
    },
    {
      "cell_type": "code",
      "source": [
        "# Replace NaN's with outliers (so we can use map)\n",
        "data['Surname'].fillna('Unknown', inplace=True)\n",
        "\n",
        "# Update family size feature\n",
        "data['Family_size']=data['Surname'].map(lambda x: data['Surname'].value_counts()[x])\n",
        "\n",
        "# Put NaN's back in place of outliers\n",
        "data.loc[data['Surname']=='Unknown','Surname']=np.nan\n",
        "\n",
        "# Say unknown surname means no family\n",
        "data.loc[data['Family_size']>100,'Family_size']=0"
      ],
      "metadata": {
        "id": "LgiELaHbxYrP"
      },
      "execution_count": null,
      "outputs": []
    },
    {
      "cell_type": "code",
      "source": [
        "# Joint distribution of Group and Cabin features\n",
        "GCD_gb=data[data['Group_size']>1].groupby(['Group','Cabin_deck'])['Cabin_deck'].size().unstack().fillna(0)\n",
        "GCN_gb=data[data['Group_size']>1].groupby(['Group','Cabin_number'])['Cabin_number'].size().unstack().fillna(0)\n",
        "GCS_gb=data[data['Group_size']>1].groupby(['Group','Cabin_side'])['Cabin_side'].size().unstack().fillna(0)\n",
        "\n",
        "# Missing values before\n",
        "CS_bef=data['Cabin_side'].isna().sum()\n",
        "\n",
        "# Passengers with missing Cabin side and in a group with known Cabin side\n",
        "GCS_index=data[data['Cabin_side'].isna()][(data[data['Cabin_side'].isna()]['Group']).isin(GCS_gb.index)].index\n",
        "\n",
        "# Fill corresponding missing values\n",
        "data.loc[GCS_index,'Cabin_side']=data.iloc[GCS_index,:]['Group'].map(lambda x: GCS_gb.idxmax(axis=1)[x])\n",
        "\n",
        "# Print number of missing values left\n",
        "print('#Cabin_side missing values before:',CS_bef)\n",
        "print('#Cabin_side missing values after:',data['Cabin_side'].isna().sum())"
      ],
      "metadata": {
        "colab": {
          "base_uri": "https://localhost:8080/"
        },
        "id": "1fXeuS70xnIV",
        "outputId": "f926a399-d920-4e52-c05b-ac56f572b881"
      },
      "execution_count": null,
      "outputs": [
        {
          "output_type": "stream",
          "name": "stdout",
          "text": [
            "#Cabin_side missing values before: 299\n",
            "#Cabin_side missing values after: 162\n"
          ]
        }
      ]
    },
    {
      "cell_type": "code",
      "source": [
        "# Joint distribution of Surname and Cabin side\n",
        "SCS_gb=data[data['Group_size']>1].groupby(['Surname','Cabin_side'])['Cabin_side'].size().unstack().fillna(0)\n",
        "\n",
        "# Ratio of sides\n",
        "SCS_gb['Ratio']=SCS_gb['P']/(SCS_gb['P']+SCS_gb['S'])\n",
        "\n",
        "# Missing values before\n",
        "CS_bef=data['Cabin_side'].isna().sum()\n",
        "\n",
        "# Drop ratio column\n",
        "SCS_gb.drop('Ratio', axis=1, inplace=True)\n",
        "\n",
        "# Passengers with missing Cabin side and in a family with known Cabin side\n",
        "SCS_index=data[data['Cabin_side'].isna()][(data[data['Cabin_side'].isna()]['Surname']).isin(SCS_gb.index)].index\n",
        "\n",
        "# Fill corresponding missing values\n",
        "data.loc[SCS_index,'Cabin_side']=data.iloc[SCS_index,:]['Surname'].map(lambda x: SCS_gb.idxmax(axis=1)[x])\n",
        "\n",
        "# Drop surname (we don't need it anymore)\n",
        "data.drop('Surname', axis=1, inplace=True)\n",
        "\n",
        "# Print number of missing values left\n",
        "print('#Cabin_side missing values before:',CS_bef)\n",
        "print('#Cabin_side missing values after:',data['Cabin_side'].isna().sum())"
      ],
      "metadata": {
        "colab": {
          "base_uri": "https://localhost:8080/"
        },
        "id": "-RCQoX1XxyHG",
        "outputId": "d49d82b3-a6b6-4a13-f6d7-bb942b61a1d1"
      },
      "execution_count": null,
      "outputs": [
        {
          "output_type": "stream",
          "name": "stdout",
          "text": [
            "#Cabin_side missing values before: 162\n",
            "#Cabin_side missing values after: 66\n"
          ]
        }
      ]
    },
    {
      "cell_type": "code",
      "source": [
        "# Missing values before\n",
        "CS_bef=data['Cabin_side'].isna().sum()\n",
        "\n",
        "# Fill remaining missing values with outlier\n",
        "data.loc[data['Cabin_side'].isna(),'Cabin_side']='Z'\n",
        "\n",
        "# Print number of missing values left\n",
        "print('#Cabin_side missing values before:',CS_bef)\n",
        "print('#Cabin_side missing values after:',data['Cabin_side'].isna().sum())"
      ],
      "metadata": {
        "colab": {
          "base_uri": "https://localhost:8080/"
        },
        "id": "cSA1jSDJx-OL",
        "outputId": "8060aebe-2180-410f-967c-b719f19510db"
      },
      "execution_count": null,
      "outputs": [
        {
          "output_type": "stream",
          "name": "stdout",
          "text": [
            "#Cabin_side missing values before: 66\n",
            "#Cabin_side missing values after: 0\n"
          ]
        }
      ]
    },
    {
      "cell_type": "code",
      "source": [
        "# Missing values before\n",
        "CD_bef=data['Cabin_deck'].isna().sum()\n",
        "\n",
        "# Passengers with missing Cabin deck and in a group with known majority Cabin deck\n",
        "GCD_index=data[data['Cabin_deck'].isna()][(data[data['Cabin_deck'].isna()]['Group']).isin(GCD_gb.index)].index\n",
        "\n",
        "# Fill corresponding missing values\n",
        "data.loc[GCD_index,'Cabin_deck']=data.iloc[GCD_index,:]['Group'].map(lambda x: GCD_gb.idxmax(axis=1)[x])\n",
        "\n",
        "# Print number of missing values left\n",
        "print('#Cabin_deck missing values before:',CD_bef)\n",
        "print('#Cabin_deck missing values after:',data['Cabin_deck'].isna().sum())"
      ],
      "metadata": {
        "colab": {
          "base_uri": "https://localhost:8080/"
        },
        "id": "vYNtX0aQx-Ug",
        "outputId": "a0e7b448-a504-4dda-dadf-648c65904aa1"
      },
      "execution_count": null,
      "outputs": [
        {
          "output_type": "stream",
          "name": "stdout",
          "text": [
            "#Cabin_deck missing values before: 299\n",
            "#Cabin_deck missing values after: 162\n"
          ]
        }
      ]
    },
    {
      "cell_type": "code",
      "source": [
        "# Missing values before\n",
        "CD_bef=data['Cabin_deck'].isna().sum()\n",
        "\n",
        "# Fill missing values using the mode\n",
        "na_rows_CD=data.loc[data['Cabin_deck'].isna(),'Cabin_deck'].index\n",
        "data.loc[data['Cabin_deck'].isna(),'Cabin_deck']=data.groupby(['HomePlanet','Destination','Solo'])['Cabin_deck'].transform(lambda x: x.fillna(pd.Series.mode(x)[0]))[na_rows_CD]\n",
        "\n",
        "# Print number of missing values left\n",
        "print('#Cabin_deck missing values before:',CD_bef)\n",
        "print('#Cabin_deck missing values after:',data['Cabin_deck'].isna().sum())"
      ],
      "metadata": {
        "colab": {
          "base_uri": "https://localhost:8080/"
        },
        "id": "9oaeobk5yM3O",
        "outputId": "481eaf5b-adab-480a-f9fe-4d6bb66c8457"
      },
      "execution_count": null,
      "outputs": [
        {
          "output_type": "stream",
          "name": "stdout",
          "text": [
            "#Cabin_deck missing values before: 162\n",
            "#Cabin_deck missing values after: 0\n"
          ]
        }
      ]
    },
    {
      "cell_type": "code",
      "source": [
        "from sklearn.linear_model import LinearRegression, LogisticRegression\n",
        "\n",
        "# Missing values before\n",
        "CN_bef=data['Cabin_number'].isna().sum()\n",
        "\n",
        "# Extrapolate linear relationship on a deck by deck basis\n",
        "for deck in ['A', 'B', 'C', 'D', 'E', 'F', 'G']:\n",
        "    # Features and labels\n",
        "    X_CN=data.loc[~(data['Cabin_number'].isna()) & (data['Cabin_deck']==deck),'Group']\n",
        "    y_CN=data.loc[~(data['Cabin_number'].isna()) & (data['Cabin_deck']==deck),'Cabin_number']\n",
        "    X_test_CN=data.loc[(data['Cabin_number'].isna()) & (data['Cabin_deck']==deck),'Group']\n",
        "\n",
        "    # Linear regression\n",
        "    model_CN=LinearRegression()\n",
        "    model_CN.fit(X_CN.values.reshape(-1, 1), y_CN)\n",
        "    preds_CN=model_CN.predict(X_test_CN.values.reshape(-1, 1))\n",
        "    \n",
        "    # Fill missing values with predictions\n",
        "    data.loc[(data['Cabin_number'].isna()) & (data['Cabin_deck']==deck),'Cabin_number']=preds_CN.astype(int)\n",
        "\n",
        "# Print number of missing values left\n",
        "print('#Cabin_number missing values before:',CN_bef)\n",
        "print('#Cabin_number missing values after:',data['Cabin_number'].isna().sum())"
      ],
      "metadata": {
        "colab": {
          "base_uri": "https://localhost:8080/"
        },
        "id": "gp90v2Rvyy8Z",
        "outputId": "535ee935-8cc7-4165-dd39-6be516e26001"
      },
      "execution_count": null,
      "outputs": [
        {
          "output_type": "stream",
          "name": "stdout",
          "text": [
            "#Cabin_number missing values before: 299\n",
            "#Cabin_number missing values after: 0\n"
          ]
        }
      ]
    },
    {
      "cell_type": "code",
      "source": [
        "# One-hot encode cabin regions\n",
        "data['Cabin_region1']=(data['Cabin_number']<300).astype(int)\n",
        "data['Cabin_region2']=((data['Cabin_number']>=300) & (data['Cabin_number']<600)).astype(int)\n",
        "data['Cabin_region3']=((data['Cabin_number']>=600) & (data['Cabin_number']<900)).astype(int)\n",
        "data['Cabin_region4']=((data['Cabin_number']>=900) & (data['Cabin_number']<1200)).astype(int)\n",
        "data['Cabin_region5']=((data['Cabin_number']>=1200) & (data['Cabin_number']<1500)).astype(int)\n",
        "data['Cabin_region6']=((data['Cabin_number']>=1500) & (data['Cabin_number']<1800)).astype(int)\n",
        "data['Cabin_region7']=(data['Cabin_number']>=1800).astype(int)"
      ],
      "metadata": {
        "id": "2EArlGdrzAAh"
      },
      "execution_count": null,
      "outputs": []
    },
    {
      "cell_type": "code",
      "source": [
        "# Missing values before\n",
        "V_bef=data['VIP'].isna().sum()\n",
        "\n",
        "# Fill missing values with mode\n",
        "data.loc[data['VIP'].isna(),'VIP']=False\n",
        "\n",
        "# Print number of missing values left\n",
        "print('#VIP missing values before:',V_bef)\n",
        "print('#VIP missing values after:',data['VIP'].isna().sum())"
      ],
      "metadata": {
        "colab": {
          "base_uri": "https://localhost:8080/"
        },
        "id": "a2YNLA3BzFL0",
        "outputId": "54d2dafd-911d-413c-dd44-9250bb34a942"
      },
      "execution_count": null,
      "outputs": [
        {
          "output_type": "stream",
          "name": "stdout",
          "text": [
            "#VIP missing values before: 296\n",
            "#VIP missing values after: 0\n"
          ]
        }
      ]
    },
    {
      "cell_type": "code",
      "source": [
        "# Missing values before\n",
        "A_bef=data[exp_feats].isna().sum().sum()\n",
        "\n",
        "# Fill missing values using the median\n",
        "na_rows_A=data.loc[data['Age'].isna(),'Age'].index\n",
        "data.loc[data['Age'].isna(),'Age']=data.groupby(['HomePlanet','No_spending','Solo','Cabin_deck'])['Age'].transform(lambda x: x.fillna(x.median()))[na_rows_A]\n",
        "\n",
        "# Print number of missing values left\n",
        "print('#Age missing values before:',A_bef)\n",
        "print('#Age missing values after:',data['Age'].isna().sum())"
      ],
      "metadata": {
        "colab": {
          "base_uri": "https://localhost:8080/"
        },
        "id": "2rsO-lsSzOeX",
        "outputId": "dc12de7f-2ed9-4459-f0f9-91ecfd9852f3"
      },
      "execution_count": null,
      "outputs": [
        {
          "output_type": "stream",
          "name": "stdout",
          "text": [
            "#Age missing values before: 1410\n",
            "#Age missing values after: 0\n"
          ]
        }
      ]
    },
    {
      "cell_type": "code",
      "source": [
        "# Update age group feature\n",
        "data.loc[data['Age']<=12,'Age_group']='Age_0-12'\n",
        "data.loc[(data['Age']>12) & (data['Age']<18),'Age_group']='Age_13-17'\n",
        "data.loc[(data['Age']>=18) & (data['Age']<=25),'Age_group']='Age_18-25'\n",
        "data.loc[(data['Age']>25) & (data['Age']<=30),'Age_group']='Age_26-30'\n",
        "data.loc[(data['Age']>30) & (data['Age']<=50),'Age_group']='Age_31-50'\n",
        "data.loc[data['Age']>50,'Age_group']='Age_51+'"
      ],
      "metadata": {
        "id": "7oWfmmyczP4T"
      },
      "execution_count": null,
      "outputs": []
    },
    {
      "cell_type": "code",
      "source": [
        "# Missing values before\n",
        "CSL_bef=data['CryoSleep'].isna().sum()\n",
        "\n",
        "# Fill missing values using the mode\n",
        "na_rows_CSL=data.loc[data['CryoSleep'].isna(),'CryoSleep'].index\n",
        "data.loc[data['CryoSleep'].isna(),'CryoSleep']=data.groupby(['No_spending'])['CryoSleep'].transform(lambda x: x.fillna(pd.Series.mode(x)[0]))[na_rows_CSL]\n",
        "\n",
        "# Print number of missing values left\n",
        "print('#CryoSleep missing values before:',CSL_bef)\n",
        "print('#CryoSleep missing values after:',data['CryoSleep'].isna().sum())"
      ],
      "metadata": {
        "colab": {
          "base_uri": "https://localhost:8080/"
        },
        "id": "ElS8OD33zSTP",
        "outputId": "7b51a941-4875-4773-920d-65d788aa9579"
      },
      "execution_count": null,
      "outputs": [
        {
          "output_type": "stream",
          "name": "stdout",
          "text": [
            "#CryoSleep missing values before: 310\n",
            "#CryoSleep missing values after: 0\n"
          ]
        }
      ]
    },
    {
      "cell_type": "code",
      "source": [
        "# Missing values before\n",
        "E_bef=data[exp_feats].isna().sum().sum()\n",
        "\n",
        "# CryoSleep has no expenditure\n",
        "for col in exp_feats:\n",
        "    data.loc[(data[col].isna()) & (data['CryoSleep']==True), col]=0\n",
        "\n",
        "# Print number of missing values left\n",
        "print('#Expenditure missing values before:',E_bef)\n",
        "print('#Expenditure missing values after:',data[exp_feats].isna().sum().sum())"
      ],
      "metadata": {
        "colab": {
          "base_uri": "https://localhost:8080/"
        },
        "id": "fZlamxXOzZzk",
        "outputId": "d2e59b72-4204-4c62-d53e-667cdedca3fb"
      },
      "execution_count": null,
      "outputs": [
        {
          "output_type": "stream",
          "name": "stdout",
          "text": [
            "#Expenditure missing values before: 1410\n",
            "#Expenditure missing values after: 866\n"
          ]
        }
      ]
    },
    {
      "cell_type": "code",
      "source": [
        "# Missing values before\n",
        "E_bef=data[exp_feats].isna().sum().sum()\n",
        "\n",
        "# Fill remaining missing values using the median\n",
        "for col in exp_feats:\n",
        "    na_rows=data.loc[data[col].isna(),col].index\n",
        "    data.loc[data[col].isna(),col]=data.groupby(['HomePlanet','Solo','Age_group'])[col].transform(lambda x: x.fillna(x.mean()))[na_rows]\n",
        "    \n",
        "# Print number of missing values left\n",
        "print('#Expenditure missing values before:',E_bef)\n",
        "print('#Expenditure missing values after:',data[exp_feats].isna().sum().sum())"
      ],
      "metadata": {
        "colab": {
          "base_uri": "https://localhost:8080/"
        },
        "id": "NfmSbDUDzZ6D",
        "outputId": "002544f0-83a5-4c60-e127-29b5668b9ebf"
      },
      "execution_count": null,
      "outputs": [
        {
          "output_type": "stream",
          "name": "stdout",
          "text": [
            "#Expenditure missing values before: 866\n",
            "#Expenditure missing values after: 0\n"
          ]
        }
      ]
    },
    {
      "cell_type": "code",
      "source": [
        "# Update expenditure and no_spending\n",
        "data['Expenditure']=data[exp_feats].sum(axis=1)\n",
        "data['No_spending']=(data['Expenditure']==0).astype(int)"
      ],
      "metadata": {
        "id": "5NP4TF_szlc3"
      },
      "execution_count": null,
      "outputs": []
    },
    {
      "cell_type": "code",
      "source": [
        "# Train and test\n",
        "X=data[data['PassengerId'].isin(train['PassengerId'].values)].copy()\n",
        "X_test=data[data['PassengerId'].isin(test['PassengerId'].values)].copy()"
      ],
      "metadata": {
        "id": "0SXeEh7gzmJH"
      },
      "execution_count": null,
      "outputs": []
    },
    {
      "cell_type": "code",
      "source": [
        "# Drop qualitative/redundant/collinear/high cardinality features\n",
        "X.drop(['PassengerId', 'Group', 'Group_size', 'Age_group', 'Cabin_number'], axis=1, inplace=True)\n",
        "X_test.drop(['PassengerId', 'Group', 'Group_size', 'Age_group', 'Cabin_number'], axis=1, inplace=True)"
      ],
      "metadata": {
        "id": "FhVgb55FztaI"
      },
      "execution_count": null,
      "outputs": []
    },
    {
      "cell_type": "code",
      "source": [
        "# Apply log transform\n",
        "for col in ['RoomService','FoodCourt','ShoppingMall','Spa','VRDeck','Expenditure']:\n",
        "    X[col]=np.log(1+X[col])\n",
        "    X_test[col]=np.log(1+X_test[col])"
      ],
      "metadata": {
        "id": "LNXZBZcKz5rs"
      },
      "execution_count": null,
      "outputs": []
    },
    {
      "cell_type": "code",
      "source": [
        "from sklearn.pipeline import Pipeline\n",
        "from sklearn.preprocessing import StandardScaler, MinMaxScaler, OneHotEncoder, LabelEncoder\n",
        "from sklearn.compose import ColumnTransformer\n",
        "# Indentify numerical and categorical columns\n",
        "numerical_cols = [cname for cname in X.columns if X[cname].dtype in ['int64', 'float64']]\n",
        "categorical_cols = [cname for cname in X.columns if X[cname].dtype == \"object\"]\n",
        "\n",
        "# Scale numerical data to have mean=0 and variance=1\n",
        "numerical_transformer = Pipeline(steps=[('scaler', StandardScaler())])\n",
        "\n",
        "# One-hot encode categorical data\n",
        "categorical_transformer = Pipeline(steps=[('onehot', OneHotEncoder(drop='if_binary', handle_unknown='ignore',sparse=False))])\n",
        "\n",
        "# Combine preprocessing\n",
        "ct = ColumnTransformer(\n",
        "    transformers=[\n",
        "        ('num', numerical_transformer, numerical_cols),\n",
        "        ('cat', categorical_transformer, categorical_cols)],\n",
        "        remainder='passthrough')\n",
        "\n",
        "# Apply preprocessing\n",
        "X = ct.fit_transform(X)\n",
        "X_test = ct.transform(X_test)\n",
        "\n",
        "# Print new shape\n",
        "print('Training set shape:', X.shape)"
      ],
      "metadata": {
        "colab": {
          "base_uri": "https://localhost:8080/"
        },
        "id": "8TgHrbj_z9jV",
        "outputId": "b1cb9dee-0695-4cb2-a4ad-323a3160a9ad"
      },
      "execution_count": null,
      "outputs": [
        {
          "output_type": "stream",
          "name": "stdout",
          "text": [
            "Training set shape: (8693, 36)\n"
          ]
        }
      ]
    },
    {
      "cell_type": "code",
      "source": [
        "from sklearn.model_selection import train_test_split, GridSearchCV, RandomizedSearchCV, StratifiedKFold\n",
        "# Train-validation split\n",
        "X_train, X_valid, y_train, y_valid = train_test_split(X,y,stratify=y,train_size=0.8,test_size=0.2,random_state=0)"
      ],
      "metadata": {
        "id": "zkZfOxJy0dVX"
      },
      "execution_count": null,
      "outputs": []
    },
    {
      "cell_type": "code",
      "source": [
        "# Classifiers\n",
        "classifiers = {\n",
        "\n",
        "    \"LGBM\" : LGBMClassifier(random_state=0),\n",
        "\n",
        "}\n",
        "\n",
        "# Grids for grid search\n",
        "\n",
        "boosted_grid = {'n_estimators': [50, 100, 150, 200],\n",
        "        'max_depth': [4, 8, 12],\n",
        "        'learning_rate': [0.05, 0.1, 0.15]}\n",
        "\n",
        "\n",
        "# Dictionary of all grids\n",
        "grid = {\n",
        "\n",
        "    \"LGBM\" : boosted_grid,\n",
        "\n",
        "}"
      ],
      "metadata": {
        "id": "UljPkR5j0k-P"
      },
      "execution_count": null,
      "outputs": []
    },
    {
      "cell_type": "code",
      "source": [
        "i=0\n",
        "clf_best_params=classifiers.copy()\n",
        "valid_scores=pd.DataFrame({'Classifer':classifiers.keys(), 'Validation accuracy': np.zeros(len(classifiers)), 'Training time': np.zeros(len(classifiers))})\n",
        "for key, classifier in classifiers.items():\n",
        "    start = time.time()\n",
        "    clf = GridSearchCV(estimator=classifier, param_grid=grid[key], n_jobs=-1, cv=None)\n",
        "\n",
        "    # Train and score\n",
        "    clf.fit(X_train, y_train)\n",
        "    valid_scores.iloc[i,1]=clf.score(X_valid, y_valid)\n",
        "\n",
        "    # Save trained model\n",
        "    clf_best_params[key]=clf.best_params_\n",
        "    \n",
        "    # Print iteration and training time\n",
        "    stop = time.time()\n",
        "    valid_scores.iloc[i,2]=np.round((stop - start)/60, 2)\n",
        "    \n",
        "    print('Model:', key)\n",
        "    print('Training time (mins):', valid_scores.iloc[i,2])\n",
        "    print('')\n",
        "    i+=1"
      ],
      "metadata": {
        "colab": {
          "base_uri": "https://localhost:8080/"
        },
        "id": "dxP3UzAa2Z9R",
        "outputId": "4eb08225-096d-401c-e5a7-f6ca3e65a316"
      },
      "execution_count": null,
      "outputs": [
        {
          "output_type": "stream",
          "name": "stdout",
          "text": [
            "Model: LGBM\n",
            "Training time (mins): 0.75\n",
            "\n"
          ]
        }
      ]
    },
    {
      "cell_type": "code",
      "source": [
        "# Classifiers\n",
        "best_classifiers = {\n",
        "    \"LGBM\" : LGBMClassifier(**clf_best_params[\"LGBM\"], random_state=0),\n",
        "\n",
        "}"
      ],
      "metadata": {
        "id": "fzqmTUiz2gL1"
      },
      "execution_count": null,
      "outputs": []
    },
    {
      "cell_type": "code",
      "source": [
        "# Number of folds in cross validation\n",
        "FOLDS=10\n",
        "\n",
        "preds=np.zeros(len(X_test))\n",
        "for key, classifier in best_classifiers.items():\n",
        "    start = time.time()\n",
        "    \n",
        "    # 10-fold cross validation\n",
        "    cv = StratifiedKFold(n_splits=FOLDS, shuffle=True, random_state=0)\n",
        "    \n",
        "    score=0\n",
        "    for fold, (train_idx, val_idx) in enumerate(cv.split(X, y)):\n",
        "        # Get training and validation sets\n",
        "        X_train, X_valid = X[train_idx], X[val_idx]\n",
        "        y_train, y_valid = y[train_idx], y[val_idx]\n",
        "\n",
        "        # Train model\n",
        "        clf = classifier\n",
        "        clf.fit(X_train, y_train)\n",
        "\n",
        "        # Make predictions and measure accuracy\n",
        "        preds += clf.predict_proba(X_test)[:,1]\n",
        "        score += clf.score(X_valid, y_valid)\n",
        "\n",
        "    # Average accuracy    \n",
        "    score=score/FOLDS\n",
        "    \n",
        "    # Stop timer\n",
        "    stop = time.time()\n",
        "\n",
        "    # Print accuracy and time\n",
        "    print('Model:', key)\n",
        "    print('Average validation accuracy:', np.round(100*score,2))\n",
        "    print('Training time (mins):', np.round((stop - start)/60,2))\n",
        "    print('')\n",
        "    \n",
        "# Ensemble predictions\n",
        "preds=preds/(FOLDS*len(best_classifiers))"
      ],
      "metadata": {
        "colab": {
          "base_uri": "https://localhost:8080/"
        },
        "id": "Z8GMMVfB21Sr",
        "outputId": "cfc60f23-2309-413d-f109-80e16ffbadbf"
      },
      "execution_count": null,
      "outputs": [
        {
          "output_type": "stream",
          "name": "stdout",
          "text": [
            "Model: LGBM\n",
            "Average validation accuracy: 81.15\n",
            "Training time (mins): 0.1\n",
            "\n"
          ]
        }
      ]
    },
    {
      "cell_type": "code",
      "source": [
        "# Proportion (in test set) we get from rounding\n",
        "print(np.round(100*np.round(preds).sum()/len(preds),2))"
      ],
      "metadata": {
        "colab": {
          "base_uri": "https://localhost:8080/"
        },
        "id": "E6f-2nkO26U6",
        "outputId": "b7c6a16a-e86a-4c8a-b2de-4941b7832cdd"
      },
      "execution_count": null,
      "outputs": [
        {
          "output_type": "stream",
          "name": "stdout",
          "text": [
            "52.82\n"
          ]
        }
      ]
    },
    {
      "cell_type": "code",
      "source": [
        "# Proportion of predicted positive (transported) classes\n",
        "def preds_prop(preds_arr, thresh):\n",
        "    pred_classes=(preds_arr>=thresh).astype(int)\n",
        "    return pred_classes.sum()/len(pred_classes)\n",
        "\n",
        "# Plot proportions across a range of thresholds\n",
        "def plot_preds_prop(preds_arr):\n",
        "    # Array of thresholds\n",
        "    T_array=np.arange(0,1,0.001)\n",
        "    \n",
        "    # Calculate proportions\n",
        "    prop=np.zeros(len(T_array))\n",
        "    for i, T in enumerate(T_array):\n",
        "        prop[i]=preds_prop(preds_arr, T)\n",
        "        \n",
        "    # Plot proportions\n",
        "    plt.figure(figsize=(10,4))\n",
        "    plt.plot(T_array, prop)\n",
        "    target_prop=0.519         # Experiment with this value\n",
        "    plt.axhline(y=target_prop, color='r', linestyle='--')\n",
        "    plt.text(-0.02,0.45,f'Target proportion: {target_prop}', fontsize=14)\n",
        "    plt.title('Predicted target distribution vs threshold')\n",
        "    plt.xlabel('Threshold')\n",
        "    plt.ylabel('Proportion')\n",
        "    \n",
        "    # Find optimal threshold (the one that leads to the proportion being closest to target_prop)\n",
        "    T_opt=T_array[np.abs(prop-target_prop).argmin()]\n",
        "    print('Optimal threshold:', T_opt)\n",
        "    return T_opt\n",
        "    \n",
        "T_opt=plot_preds_prop(preds)"
      ],
      "metadata": {
        "colab": {
          "base_uri": "https://localhost:8080/",
          "height": 333
        },
        "id": "v4Qa1kEY3LmH",
        "outputId": "d181578a-430a-4121-ea6b-306d26ac7ee0"
      },
      "execution_count": null,
      "outputs": [
        {
          "output_type": "stream",
          "name": "stdout",
          "text": [
            "Optimal threshold: 0.51\n"
          ]
        },
        {
          "output_type": "display_data",
          "data": {
            "text/plain": [
              "<Figure size 720x288 with 1 Axes>"
            ],
            "image/png": "[encoded data removed]"
          },
          "metadata": {}
        }
      ]
    },
    {
      "cell_type": "code",
      "source": [
        "# Classify test set using optimal threshold\n",
        "preds_tuned=(preds>=T_opt).astype(int)"
      ],
      "metadata": {
        "id": "utvWZlU13Mr_"
      },
      "execution_count": null,
      "outputs": []
    },
    {
      "cell_type": "code",
      "source": [
        "# Sample submission (to get right format)\n",
        "sub=pd.read_csv('sample_submission.csv')\n",
        "\n",
        "# Add predictions\n",
        "sub['Transported']=preds_tuned\n",
        "\n",
        "# Replace 0 to False and 1 to True\n",
        "sub=sub.replace({0:False, 1:True})\n",
        "\n",
        "# Prediction distribution\n",
        "plt.figure(figsize=(6,6))\n",
        "sub['Transported'].value_counts().plot.pie(explode=[0.1,0.1], autopct='%1.1f%%', shadow=True, textprops={'fontsize':16}).set_title(\"Prediction distribution\")"
      ],
      "metadata": {
        "colab": {
          "base_uri": "https://localhost:8080/",
          "height": 396
        },
        "id": "9_2YBDbO3PYQ",
        "outputId": "1175bb54-2916-4ec4-9c7b-77da81be2878"
      },
      "execution_count": null,
      "outputs": [
        {
          "output_type": "execute_result",
          "data": {
            "text/plain": [
              "Text(0.5, 1.0, 'Prediction distribution')"
            ]
          },
          "metadata": {},
          "execution_count": 73
        },
        {
          "output_type": "display_data",
          "data": {
            "text/plain": [
              "<Figure size 432x432 with 1 Axes>"
            ],
            "image/png": "[encoded data removed]"
          },
          "metadata": {}
        }
      ]
    },
    {
      "cell_type": "code",
      "source": [
        "# Output to csv\n",
        "sub.to_csv('submission.csv', index=False)"
      ],
      "metadata": {
        "id": "KvE4A_sK3Rwq"
      },
      "execution_count": null,
      "outputs": []
    }
  ]
}